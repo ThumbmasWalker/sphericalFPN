{
 "cells": [
  {
   "cell_type": "code",
   "execution_count": 1,
   "metadata": {},
   "outputs": [
    {
     "name": "stdout",
     "output_type": "stream",
     "text": [
      "[INFO] loading mesh uscnn/meshes/icosphere_0.pkl...\n"
     ]
    },
    {
     "name": "stderr",
     "output_type": "stream",
     "text": [
      "/home/varun/uoe/mlp/uscnn/utils/utils.py:15: UserWarning: Creating a tensor from a list of numpy.ndarrays is extremely slow. Please consider converting the list to a single numpy.ndarray with numpy.array() before converting to a tensor. (Triggered internally at  ../torch/csrc/utils/tensor_new.cpp:201.)\n",
      "  i = torch.LongTensor([m.row, m.col])\n"
     ]
    },
    {
     "name": "stdout",
     "output_type": "stream",
     "text": [
      "[INFO] loading mesh uscnn/meshes/icosphere_1.pkl...\n",
      "[INFO] loading mesh uscnn/meshes/icosphere_2.pkl...\n",
      "[INFO] loading mesh uscnn/meshes/icosphere_3.pkl...\n",
      "[INFO] loading mesh uscnn/meshes/icosphere_4.pkl...\n",
      "[INFO] loading mesh uscnn/meshes/icosphere_5.pkl...\n"
     ]
    }
   ],
   "source": [
    "# import the necessary packages\n",
    "from uscnn.models import SphericalFPNet\n",
    "from data import S2D3DSegLoader\n",
    "from fastai.learner import Learner\n",
    "from fastai.vision.all import *\n",
    "from fastai.data.core import *\n",
    "import torch.nn as nn"
   ]
  },
  {
   "cell_type": "code",
   "execution_count": 3,
   "metadata": {},
   "outputs": [],
   "source": [
    "train_ds = S2D3DSegLoader(\"/home/varun/datasets/2d3ds_sphere\", \"train\", 1, 5)\n",
    "val_ds = S2D3DSegLoader(\"/home/varun/datasets/2d3ds_sphere\", \"test\", 1, 5)"
   ]
  },
  {
   "cell_type": "code",
   "execution_count": 4,
   "metadata": {},
   "outputs": [],
   "source": [
    "train_dl = DataLoader(train_ds, bs=8, shuffle=True)\n",
    "val_dl = DataLoader(val_ds, bs=8, shuffle=True)\n",
    "dls = DataLoaders(train_dl, val_dl)"
   ]
  },
  {
   "cell_type": "code",
   "execution_count": 5,
   "metadata": {},
   "outputs": [],
   "source": [
    "model = SphericalFPNet(4, 15, fdim=32)"
   ]
  },
  {
   "cell_type": "code",
   "execution_count": 7,
   "metadata": {},
   "outputs": [],
   "source": [
    "learn = Learner(dls, model, loss_func=nn.CrossEntropyLoss)"
   ]
  },
  {
   "cell_type": "code",
   "execution_count": 11,
   "metadata": {},
   "outputs": [
    {
     "data": {
      "text/html": [
       "<h4 id=\"Learner.lr_find\" class=\"doc_header\"><code>Learner.lr_find</code><a href=\"https://github.com/fastai/fastai/tree/master/fastai/callback/schedule.py#L280\" class=\"source_link\" style=\"float:right\">[source]</a></h4><blockquote><p><code>Learner.lr_find</code>(<strong><code>start_lr</code></strong>=<em><code>1e-07</code></em>, <strong><code>end_lr</code></strong>=<em><code>10</code></em>, <strong><code>num_it</code></strong>=<em><code>100</code></em>, <strong><code>stop_div</code></strong>=<em><code>True</code></em>, <strong><code>show_plot</code></strong>=<em><code>True</code></em>, <strong><code>suggest_funcs</code></strong>=<em><code>valley</code></em>)</p>\n",
       "</blockquote>\n",
       "<p>Launch a mock training to find a good learning rate and return suggestions based on <code>suggest_funcs</code> as a named tuple</p>\n",
       "<p><a href=\"https://docs.fast.ai/callback.schedule#Learner.lr_find\" target=\"_blank\" rel=\"noreferrer noopener\">Show in docs</a></p>\n"
      ]
     },
     "metadata": {},
     "output_type": "display_data"
    }
   ],
   "source": [
    "doc(learn.lr_find)"
   ]
  }
 ],
 "metadata": {
  "kernelspec": {
   "display_name": "Python 3",
   "language": "python",
   "name": "python3"
  },
  "language_info": {
   "codemirror_mode": {
    "name": "ipython",
    "version": 3
   },
   "file_extension": ".py",
   "mimetype": "text/x-python",
   "name": "python",
   "nbconvert_exporter": "python",
   "pygments_lexer": "ipython3",
   "version": "3.8.10"
  }
 },
 "nbformat": 4,
 "nbformat_minor": 4
}
